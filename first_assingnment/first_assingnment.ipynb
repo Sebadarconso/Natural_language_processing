{
 "cells": [
  {
   "cell_type": "markdown",
   "metadata": {},
   "source": [
    "# NLP FIRST ASSIGNMENT\n",
    "Developing a Naïve Bayas Classifier able to distinguish between english and not-english"
   ]
  },
  {
   "cell_type": "markdown",
   "metadata": {},
   "source": [
    "## Preliminary imports"
   ]
  },
  {
   "cell_type": "code",
   "execution_count": 58,
   "metadata": {},
   "outputs": [],
   "source": [
    "import nltk\n",
    "import random\n",
    "import time\n",
    "from tqdm import tqdm\n",
    "from nltk.tokenize import word_tokenize\n",
    "from nltk.corpus import stopwords\n",
    "from nltk.stem import PorterStemmer\n",
    "\n",
    "ROOT = '/Users/sebastianodarconso/Desktop/magistrale_lab/natural_language_processing/first_assingnment/europarl_raw'"
   ]
  },
  {
   "cell_type": "markdown",
   "metadata": {},
   "source": [
    "## Extracting english and not-english files from the europarl_raw dataset"
   ]
  },
  {
   "cell_type": "code",
   "execution_count": 59,
   "metadata": {},
   "outputs": [],
   "source": [
    "eng = open(ROOT + \"/english/ep-00-01-17.en\", 'r').read()\n",
    "eng += open(ROOT + \"/english/ep-00-01-18.en\", 'r').read()\n",
    "eng += open(ROOT + \"/english/ep-00-01-19.en\", 'r').read()\n",
    "eng += open(ROOT + \"/english/ep-00-01-21.en\", 'r').read()\n",
    "eng += open(ROOT + \"/english/ep-00-02-02.en\", 'r').read()\n",
    "eng += open(ROOT + \"/english/ep-00-02-03.en\", 'r').read()\n",
    "\n",
    "not_eng = open(ROOT + \"/german/ep-00-01-17.de\", 'r').read()\n",
    "not_eng += open(ROOT + \"/french/ep-00-01-17.fr\", 'r').read()\n",
    "not_eng += open(ROOT + \"/finnish/ep-00-01-17.fi\", 'r').read()\n",
    "not_eng += open(ROOT + \"/greek/ep-00-01-17.el\", 'r').read()\n",
    "not_eng += open(ROOT + \"/italian/ep-00-01-17.it\", 'r').read()\n",
    "not_eng += open(ROOT + \"/swedish/ep-00-01-17.sv\", 'r').read()\n",
    "not_eng += open(ROOT + \"/dutch/ep-00-01-18.nl\", 'r').read()"
   ]
  },
  {
   "cell_type": "code",
   "execution_count": 60,
   "metadata": {},
   "outputs": [
    {
     "name": "stdout",
     "output_type": "stream",
     "text": [
      "1400752\n",
      "1503692\n"
     ]
    }
   ],
   "source": [
    "print(len(eng))\n",
    "print(len(not_eng))"
   ]
  },
  {
   "cell_type": "markdown",
   "metadata": {},
   "source": [
    "# Creating the sets of stopwords for the languages used \n",
    "For this example the languages are:\n",
    "- english\n",
    "- german \n",
    "- dutch\n",
    "- finnish\n",
    "- italian\n",
    "- swedish \n",
    "- french \n",
    "- greek \n",
    "\n",
    "They will still be divided as \"english\" and \"not english\""
   ]
  },
  {
   "cell_type": "code",
   "execution_count": 61,
   "metadata": {},
   "outputs": [],
   "source": [
    "languages = ['english', 'german', 'dutch', 'finnish', 'italian', 'swedish', 'french', 'greek']"
   ]
  },
  {
   "cell_type": "code",
   "execution_count": 62,
   "metadata": {},
   "outputs": [],
   "source": [
    "stopwords_eng = set()\n",
    "stopwords_not_eng = set()\n",
    "for l in languages:\n",
    "    if l == 'english':\n",
    "        stopwords_eng.update(stopwords.words(l))\n",
    "    else:\n",
    "        stopwords_not_eng.update(stopwords.words(l))"
   ]
  },
  {
   "cell_type": "markdown",
   "metadata": {},
   "source": [
    "## Creating the stemmer (PorterStemmer)"
   ]
  },
  {
   "cell_type": "code",
   "execution_count": 63,
   "metadata": {},
   "outputs": [],
   "source": [
    "ps = PorterStemmer()"
   ]
  },
  {
   "cell_type": "markdown",
   "metadata": {},
   "source": [
    "## Tokenizing, stemming and removing stopwords\n",
    "\n",
    "In this section all the words in both english and not english bows will be tokenized and stemmed. From the resulting bows will be removed also the stopwords and then they will be merged together in order to create an heterogeneous (with relation to the language) bag of words."
   ]
  },
  {
   "cell_type": "code",
   "execution_count": 64,
   "metadata": {},
   "outputs": [
    {
     "name": "stderr",
     "output_type": "stream",
     "text": [
      "100%|██████████| 9135/9135 [00:01<00:00, 4886.35it/s]\n",
      "100%|██████████| 9637/9637 [00:01<00:00, 5148.25it/s]"
     ]
    },
    {
     "name": "stdout",
     "output_type": "stream",
     "text": [
      "3.7479491233825684\n"
     ]
    },
    {
     "name": "stderr",
     "output_type": "stream",
     "text": [
      "\n"
     ]
    }
   ],
   "source": [
    "all_words = []\n",
    "documents = []\n",
    "\n",
    "start = time.time()\n",
    "for en in tqdm(eng.split('\\n')):\n",
    "    documents.append((en, 'eng'))\n",
    "    words = word_tokenize(en)\n",
    "    for w in words:\n",
    "        if not w in stopwords_eng:\n",
    "            all_words.append(ps.stem(w.lower()))\n",
    "\n",
    "for ne in tqdm(not_eng.split('\\n')):\n",
    "    documents.append((ne, 'not eng'))\n",
    "    words = word_tokenize(ne)\n",
    "    for w in words:\n",
    "        if w not in stopwords_not_eng:\n",
    "            all_words.append(ps.stem(w.lower()))\n",
    "end = time.time()\n",
    "\n",
    "print(end - start)"
   ]
  },
  {
   "cell_type": "markdown",
   "metadata": {},
   "source": [
    "## Calculating the frequency distribution for the BOW and listing the first 8k features"
   ]
  },
  {
   "cell_type": "code",
   "execution_count": 65,
   "metadata": {},
   "outputs": [],
   "source": [
    "all_words = nltk.FreqDist(all_words)\n",
    "word_features = list(all_words.keys())[:8000]"
   ]
  },
  {
   "cell_type": "markdown",
   "metadata": {},
   "source": [
    "## Defining a function that extract the features from each document (all the words, tokenized)"
   ]
  },
  {
   "cell_type": "code",
   "execution_count": 66,
   "metadata": {},
   "outputs": [],
   "source": [
    "def find_features(document):\n",
    "    words = word_tokenize(document)\n",
    "    features = {}\n",
    "    for w in word_features:\n",
    "        features[w] = (w in words)\n",
    "    return features "
   ]
  },
  {
   "cell_type": "markdown",
   "metadata": {},
   "source": [
    "## Creating the dataset and shuffling it"
   ]
  },
  {
   "cell_type": "code",
   "execution_count": 67,
   "metadata": {},
   "outputs": [
    {
     "name": "stderr",
     "output_type": "stream",
     "text": [
      "100%|██████████| 18772/18772 [00:33<00:00, 557.57it/s]"
     ]
    },
    {
     "name": "stdout",
     "output_type": "stream",
     "text": [
      "18772\n"
     ]
    },
    {
     "name": "stderr",
     "output_type": "stream",
     "text": [
      "\n"
     ]
    }
   ],
   "source": [
    "featureset = [(find_features(doc), lang) for (doc, lang) in tqdm(documents)]\n",
    "random.shuffle(featureset)\n",
    "print(len(featureset))"
   ]
  },
  {
   "cell_type": "markdown",
   "metadata": {},
   "source": [
    "## Splitting (evenly) the dataset into training and testing data"
   ]
  },
  {
   "cell_type": "code",
   "execution_count": 68,
   "metadata": {},
   "outputs": [],
   "source": [
    "dataset_len = len(featureset)\n",
    "\n",
    "testing_set = featureset[(dataset_len//2):]\n",
    "training_set = featureset[:(dataset_len//2)]"
   ]
  },
  {
   "cell_type": "markdown",
   "metadata": {},
   "source": [
    "## Training the default Naïve Bayas Classifier on the training dataset"
   ]
  },
  {
   "cell_type": "code",
   "execution_count": 69,
   "metadata": {},
   "outputs": [
    {
     "name": "stdout",
     "output_type": "stream",
     "text": [
      "31.858929872512817\n"
     ]
    }
   ],
   "source": [
    "start = time.time()\n",
    "classifier = nltk.NaiveBayesClassifier.train(training_set)\n",
    "end = time.time()\n",
    "\n",
    "print(end - start)"
   ]
  },
  {
   "cell_type": "markdown",
   "metadata": {},
   "source": [
    "## Defining the function that will be used to test the classifier on text and files different from the testing ones"
   ]
  },
  {
   "cell_type": "code",
   "execution_count": 70,
   "metadata": {},
   "outputs": [],
   "source": [
    "def test(text):\n",
    "    feats = find_features(text)\n",
    "    return classifier.classify(feats)"
   ]
  },
  {
   "cell_type": "markdown",
   "metadata": {},
   "source": [
    "## Some tests on different languages text"
   ]
  },
  {
   "cell_type": "code",
   "execution_count": 71,
   "metadata": {},
   "outputs": [
    {
     "name": "stdout",
     "output_type": "stream",
     "text": [
      "oggi è proprio una bella giornata: not eng\n",
      "\n",
      "today is such a beautiful day: eng\n",
      "\n",
      "Mein Name ist Anna. Ich komme aus Österreich und lebe seit drei Jahren in Deutschland. Ich bin 15Jahre alt und habe zwei Geschwister: Meine Schwester heißt Klara und ist 13 Jahre alt, mein BruderMichael ist 18 Jahre alt.: not eng\n",
      "\n",
      "Το όνομά μου είναι Άννα. Κατάγομαι από την Αυστρία και ζω στη Γερμανία εδώ και τρία χρόνια. Είμαι 15 χρονών και έχω δύο αδέρφια: Η αδερφή μου ονομάζεται Κλάρα και είναι 13 ετών, ο αδερφός μου ο Μιχαήλ είναι 18 ετών. Ζούμε με τους γονείς μας σε ένα σπίτι κοντά στο Μόναχο, η μητέρα μου είναι μαγείρισσα και ο πατέρας μου σε τράπεζα: not eng\n",
      "\n"
     ]
    }
   ],
   "source": [
    "text = \"oggi è proprio una bella giornata\"\n",
    "text_eng = \"today is such a beautiful day\"\n",
    "text_de = \"Mein Name ist Anna. Ich komme aus Österreich und lebe seit drei Jahren in Deutschland. Ich bin 15Jahre alt und habe zwei Geschwister: Meine Schwester heißt Klara und ist 13 Jahre alt, mein BruderMichael ist 18 Jahre alt.\"\n",
    "text_el = \"Το όνομά μου είναι Άννα. Κατάγομαι από την Αυστρία και ζω στη Γερμανία εδώ και τρία χρόνια. Είμαι 15 χρονών και έχω δύο αδέρφια: Η αδερφή μου ονομάζεται Κλάρα και είναι 13 ετών, ο αδερφός μου ο Μιχαήλ είναι 18 ετών. Ζούμε με τους γονείς μας σε ένα σπίτι κοντά στο Μόναχο, η μητέρα μου είναι μαγείρισσα και ο πατέρας μου σε τράπεζα\"\n",
    "print(text + ': ' + test(text) + '\\n')\n",
    "print(text_eng + ': ' + test(text_eng) + '\\n')\n",
    "print(text_de + ': '+ test(text_de) + '\\n')\n",
    "print(text_el + ': '+ test(text_el) + '\\n')"
   ]
  },
  {
   "cell_type": "markdown",
   "metadata": {},
   "source": [
    "## Some tests on documents"
   ]
  },
  {
   "cell_type": "code",
   "execution_count": 72,
   "metadata": {},
   "outputs": [
    {
     "name": "stdout",
     "output_type": "stream",
     "text": [
      "file in english: eng\n",
      "file in italian: not eng\n"
     ]
    }
   ],
   "source": [
    "file_eng = open(\"/Users/sebastianodarconso/Desktop/magistrale_lab/natural_language_processing/first_assingnment/english_doc.txt\").read()\n",
    "file_ita = open(\"/Users/sebastianodarconso/Desktop/magistrale_lab/natural_language_processing/first_assingnment/italian_doc.txt\").read()\n",
    "\n",
    "print(\"file in english: {}\".format(test(file_eng)))\n",
    "print(\"file in italian: {}\".format(test(file_ita)))"
   ]
  },
  {
   "cell_type": "markdown",
   "metadata": {},
   "source": [
    "## Displaying the confusion matrix with the testing set"
   ]
  },
  {
   "cell_type": "code",
   "execution_count": 73,
   "metadata": {},
   "outputs": [
    {
     "name": "stderr",
     "output_type": "stream",
     "text": [
      "100%|██████████| 9386/9386 [01:21<00:00, 114.99it/s]"
     ]
    },
    {
     "name": "stdout",
     "output_type": "stream",
     "text": [
      "        |         n |\n",
      "        |         o |\n",
      "        |         t |\n",
      "        |           |\n",
      "        |    e    e |\n",
      "        |    n    n |\n",
      "        |    g    g |\n",
      "--------+-----------+\n",
      "    eng |<4398> 152 |\n",
      "not eng |    .<4836>|\n",
      "--------+-----------+\n",
      "(row = reference; col = test)\n",
      "\n"
     ]
    },
    {
     "name": "stderr",
     "output_type": "stream",
     "text": [
      "\n"
     ]
    }
   ],
   "source": [
    "from nltk.metrics import ConfusionMatrix\n",
    "from collections import defaultdict\n",
    "\n",
    "ref = defaultdict(set)\n",
    "testset = defaultdict(set)\n",
    "\n",
    "labels = []\n",
    "tests = []\n",
    "\n",
    "for i, (feats, label) in enumerate(tqdm(testing_set)):\n",
    "    ref[label].add(i)\n",
    "    observed = classifier.classify(feats)\n",
    "    testset[observed].add(i)\n",
    "    labels.append(label)\n",
    "    tests.append(observed)\n",
    "\n",
    "\n",
    "cm = ConfusionMatrix(labels, tests)\n",
    "print(cm)"
   ]
  },
  {
   "cell_type": "markdown",
   "metadata": {},
   "source": [
    "## Displaying the precision, recall and F-measure on the testing data"
   ]
  },
  {
   "cell_type": "code",
   "execution_count": 74,
   "metadata": {},
   "outputs": [
    {
     "name": "stdout",
     "output_type": "stream",
     "text": [
      "    Tag | Prec.  | Recall | F-measure\n",
      "--------+--------+--------+-----------\n",
      "    eng | 1.0000 | 0.9666 | 0.9830\n",
      "not eng | 0.9695 | 1.0000 | 0.9845\n",
      "\n"
     ]
    }
   ],
   "source": [
    "print(cm.evaluate())"
   ]
  },
  {
   "cell_type": "markdown",
   "metadata": {},
   "source": [
    "## Classifier accuracy and most informative features"
   ]
  },
  {
   "cell_type": "code",
   "execution_count": 75,
   "metadata": {},
   "outputs": [
    {
     "name": "stdout",
     "output_type": "stream",
     "text": [
      "Most Informative Features\n",
      "                     and = True              eng : not en =   1418.1 : 1.0\n",
      "                     not = True              eng : not en =    553.9 : 1.0\n",
      "                      as = True              eng : not en =    418.5 : 1.0\n",
      "                     die = True           not en : eng    =    226.7 : 1.0\n",
      "                      be = True              eng : not en =    187.2 : 1.0\n",
      "                      de = True           not en : eng    =    184.2 : 1.0\n",
      "                    will = True              eng : not en =    178.2 : 1.0\n",
      "                      le = True           not en : eng    =    170.3 : 1.0\n",
      "                     den = True           not en : eng    =    141.7 : 1.0\n",
      "                      et = True           not en : eng    =    119.4 : 1.0\n",
      "                       d = True           not en : eng    =    100.9 : 1.0\n",
      "                       e = True           not en : eng    =     73.5 : 1.0\n",
      "                       i = True           not en : eng    =     70.5 : 1.0\n",
      "                     van = True           not en : eng    =     69.4 : 1.0\n",
      "                     der = True           not en : eng    =     68.4 : 1.0\n"
     ]
    }
   ],
   "source": [
    "classifier.show_most_informative_features(15)"
   ]
  },
  {
   "cell_type": "code",
   "execution_count": 76,
   "metadata": {},
   "outputs": [
    {
     "name": "stdout",
     "output_type": "stream",
     "text": [
      "accuracy: 0.9818879181760068\n"
     ]
    }
   ],
   "source": [
    "accuracy = nltk.classify.accuracy(classifier, training_set)\n",
    "print(\"accuracy: {}\".format(accuracy))"
   ]
  }
 ],
 "metadata": {
  "interpreter": {
   "hash": "4e1bd50c29ca9d85d25a0084185febf7020f5e8bd5da929d18cf95b16060538f"
  },
  "kernelspec": {
   "display_name": "Python 3.9.15 ('nlp')",
   "language": "python",
   "name": "python3"
  },
  "language_info": {
   "codemirror_mode": {
    "name": "ipython",
    "version": 3
   },
   "file_extension": ".py",
   "mimetype": "text/x-python",
   "name": "python",
   "nbconvert_exporter": "python",
   "pygments_lexer": "ipython3",
   "version": "3.9.15"
  },
  "orig_nbformat": 4
 },
 "nbformat": 4,
 "nbformat_minor": 2
}
