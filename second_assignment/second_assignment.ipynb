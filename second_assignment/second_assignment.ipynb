{
 "cells": [
  {
   "cell_type": "markdown",
   "metadata": {},
   "source": [
    "## NLP SECOND ASSIGNMENT"
   ]
  },
  {
   "cell_type": "markdown",
   "metadata": {},
   "source": [
    "The assignment consists in the development a pipeline that, starting from a text in input, in a given language (English, French, German, Italian) outputs the syntactic tree of the sentence itself.\n",
    "\n",
    "We can assume the following:\n",
    "- Adjectives in English and German are prefixed to nouns \n",
    "- Adjectives in Italian and French are postponed to nouns \n",
    "- Verbs are all at present tense \n",
    "- No pronouns are admitted \n",
    "- Only one adverb is admitted and is always postponed with respect to the verb\n",
    "\n",
    "For this assignment I decided to write a simple context free grammar that fits the sentences that I give as inputs, I used spacy for pos tagging and \n",
    "NLTK for grammar parsing and tree generation."
   ]
  },
  {
   "cell_type": "markdown",
   "metadata": {},
   "source": [
    "## Preliminary imports"
   ]
  },
  {
   "cell_type": "code",
   "execution_count": 13,
   "metadata": {},
   "outputs": [],
   "source": [
    "import nltk\n",
    "import spacy\n",
    "from nltk.tree import TreePrettyPrinter"
   ]
  },
  {
   "cell_type": "markdown",
   "metadata": {},
   "source": [
    "## TREE GENERATOR"
   ]
  },
  {
   "cell_type": "code",
   "execution_count": 14,
   "metadata": {},
   "outputs": [],
   "source": [
    "def tree_generator(file, grammar_init, nlp):\n",
    "    for sent in file:\n",
    "        parsed_sent = nlp(sent)\n",
    "        for token in parsed_sent:\n",
    "            print(token.text, token.pos_)\n",
    "        print(f\"{sent}\\n\")\n",
    "\n",
    "        # Collect possible parts of speech and words for each part of speech\n",
    "        grammar = {token.pos_: [f'\"{token.text}\"'] for token in parsed_sent}\n",
    "\n",
    "        for type, words in grammar.items():\n",
    "            for token in parsed_sent:\n",
    "                if token.pos_ == type and f'\"{token.text}\"' not in words:\n",
    "                    words.append(f'\"{token.text}\"')\n",
    "\n",
    "            # Create grammar rules\n",
    "            grammar_string = f\"{type} -> {' | '.join(words)}\\n\"\n",
    "            grammar_init += grammar_string\n",
    "\n",
    "        nltk_grammar = nltk.CFG.fromstring(grammar_init)\n",
    "        parser = nltk.ChartParser(nltk_grammar)\n",
    "\n",
    "        spacy_tokenized = [token.text for token in parsed_sent]\n",
    "        trees = list(parser.parse(spacy_tokenized))\n",
    "        if trees:\n",
    "            print(trees[0])\n",
    "            print(TreePrettyPrinter(trees[0]).text())"
   ]
  },
  {
   "cell_type": "code",
   "execution_count": 15,
   "metadata": {},
   "outputs": [],
   "source": [
    "grammar = \"\"\"\n",
    "S -> NP VP PUNCT | NP VP | PUNCT NP VP PUNCT\n",
    "NP -> NOUN | NP ADJ | DET NP | ADJ NP\n",
    "VP -> VP NP | VERB | VP ADV | VP PUNCT \n",
    "\"\"\" "
   ]
  },
  {
   "cell_type": "markdown",
   "metadata": {},
   "source": [
    "## ITALIAN"
   ]
  },
  {
   "cell_type": "code",
   "execution_count": 16,
   "metadata": {},
   "outputs": [
    {
     "name": "stdout",
     "output_type": "stream",
     "text": [
      "L' DET\n",
      "automobile NOUN\n",
      "rossa ADJ\n",
      "corre VERB\n",
      "velocemente ADV\n",
      ". PUNCT\n",
      "L'automobile rossa corre velocemente.\n",
      "\n",
      "(S\n",
      "  (NP (NP (DET L') (NP (NOUN automobile))) (ADJ rossa))\n",
      "  (VP (VP (VERB corre)) (ADV velocemente))\n",
      "  (PUNCT .))\n",
      "                     S                              \n",
      "             ________|___________________________    \n",
      "            NP                  |                |  \n",
      "      ______|________           |                |   \n",
      "     NP              |          VP               |  \n",
      "  ___|______         |      ____|_______         |   \n",
      " |          NP       |     VP           |        |  \n",
      " |          |        |     |            |        |   \n",
      "DET        NOUN     ADJ   VERB         ADV     PUNCT\n",
      " |          |        |     |            |        |   \n",
      " L'     automobile rossa corre     velocemente   .  \n",
      "\n"
     ]
    }
   ],
   "source": [
    "file = [\n",
    "    \"L'automobile rossa corre velocemente.\"\n",
    "]\n",
    "\n",
    "# Load spacy pos tag for Italian\n",
    "nlp = spacy.load(\"it_core_news_sm\") \n",
    "\n",
    "tree_generator(file, grammar, nlp)"
   ]
  },
  {
   "cell_type": "markdown",
   "metadata": {},
   "source": [
    "## ENGLISH"
   ]
  },
  {
   "cell_type": "code",
   "execution_count": 17,
   "metadata": {},
   "outputs": [
    {
     "name": "stdout",
     "output_type": "stream",
     "text": [
      "The DET\n",
      "red ADJ\n",
      "car NOUN\n",
      "runs VERB\n",
      "quickly ADV\n",
      ". PUNCT\n",
      "The red car runs quickly.\n",
      "\n",
      "(S\n",
      "  (NP (DET The) (NP (ADJ red) (NP (NOUN car))))\n",
      "  (VP (VP (VERB runs)) (ADV quickly))\n",
      "  (PUNCT .))\n",
      "             S                         \n",
      "      _______|______________________    \n",
      "     NP                |            |  \n",
      "  ___|___              |            |   \n",
      " |       NP            VP           |  \n",
      " |    ___|___      ____|_____       |   \n",
      " |   |       NP   VP         |      |  \n",
      " |   |       |    |          |      |   \n",
      "DET ADJ     NOUN VERB       ADV   PUNCT\n",
      " |   |       |    |          |      |   \n",
      "The red     car  runs     quickly   .  \n",
      "\n"
     ]
    }
   ],
   "source": [
    "file = [\n",
    "    \"The red car runs quickly.\",\n",
    "]\n",
    "\n",
    "# load spacy pos tag for English\n",
    "nlp = spacy.load(\"en_core_web_sm\") \n",
    "\n",
    "tree_generator(file, grammar, nlp)"
   ]
  },
  {
   "cell_type": "markdown",
   "metadata": {},
   "source": [
    "## GERMAN"
   ]
  },
  {
   "cell_type": "code",
   "execution_count": 18,
   "metadata": {},
   "outputs": [
    {
     "name": "stdout",
     "output_type": "stream",
     "text": [
      "Die DET\n",
      "hohe ADJ\n",
      "Palme NOUN\n",
      "schwankt VERB\n",
      "sanft ADV\n",
      ". PUNCT\n",
      "Die hohe Palme schwankt sanft.\n",
      "\n",
      "(S\n",
      "  (NP (DET Die) (NP (ADJ hohe) (NP (NOUN Palme))))\n",
      "  (VP (VP (VERB schwankt)) (ADV sanft))\n",
      "  (PUNCT .))\n",
      "               S                           \n",
      "      _________|________________________    \n",
      "     NP                      |          |  \n",
      "  ___|____                   |          |   \n",
      " |        NP                 VP         |  \n",
      " |    ____|____        ______|____      |   \n",
      " |   |         NP     VP          |     |  \n",
      " |   |         |      |           |     |   \n",
      "DET ADJ       NOUN   VERB        ADV  PUNCT\n",
      " |   |         |      |           |     |   \n",
      "Die hohe     Palme schwankt     sanft   .  \n",
      "\n"
     ]
    }
   ],
   "source": [
    "file = [ \n",
    "    \"Die hohe Palme schwankt sanft.\"\n",
    "]\n",
    "\n",
    "# load spacy pos tag for German\n",
    "nlp = spacy.load(\"de_core_news_sm\") \n",
    "\n",
    "tree_generator(file, grammar, nlp)"
   ]
  },
  {
   "cell_type": "markdown",
   "metadata": {},
   "source": [
    "## FRENCH"
   ]
  },
  {
   "cell_type": "code",
   "execution_count": 19,
   "metadata": {},
   "outputs": [
    {
     "name": "stdout",
     "output_type": "stream",
     "text": [
      "Le DET\n",
      "chat NOUN\n",
      "noir ADJ\n",
      "dormir VERB\n",
      "tranquillement ADV\n",
      ". PUNCT\n",
      "Le chat noir dormir tranquillement.\n",
      "\n",
      "(S\n",
      "  (NP (NP (DET Le) (NP (NOUN chat))) (ADJ noir))\n",
      "  (VP (VP (VERB dormir)) (ADV tranquillement))\n",
      "  (PUNCT .))\n",
      "              S                                  \n",
      "          ____|_______________________________    \n",
      "         NP               |                   |  \n",
      "      ___|____            |                   |   \n",
      "     NP       |           VP                  |  \n",
      "  ___|___     |      _____|________           |   \n",
      " |       NP   |     VP             |          |  \n",
      " |       |    |     |              |          |   \n",
      "DET     NOUN ADJ   VERB           ADV       PUNCT\n",
      " |       |    |     |              |          |   \n",
      " Le     chat noir dormir     tranquillement   .  \n",
      "\n"
     ]
    }
   ],
   "source": [
    "file = [\n",
    "    \"Le chat noir dormir tranquillement.\"\n",
    "]\n",
    "\n",
    "# load spacy pos tag for French\n",
    "nlp = spacy.load(\"fr_core_news_sm\") \n",
    "\n",
    "tree_generator(file, grammar, nlp)"
   ]
  }
 ],
 "metadata": {
  "kernelspec": {
   "display_name": "Python 3.9.15 ('nlp')",
   "language": "python",
   "name": "python3"
  },
  "language_info": {
   "codemirror_mode": {
    "name": "ipython",
    "version": 3
   },
   "file_extension": ".py",
   "mimetype": "text/x-python",
   "name": "python",
   "nbconvert_exporter": "python",
   "pygments_lexer": "ipython3",
   "version": "3.9.15"
  },
  "orig_nbformat": 4,
  "vscode": {
   "interpreter": {
    "hash": "4e1bd50c29ca9d85d25a0084185febf7020f5e8bd5da929d18cf95b16060538f"
   }
  }
 },
 "nbformat": 4,
 "nbformat_minor": 2
}
